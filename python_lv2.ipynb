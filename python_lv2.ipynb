{
 "cells": [
  {
   "cell_type": "markdown",
   "metadata": {},
   "source": [
    "- 행렬 곱셈(Lv2)"
   ]
  },
  {
   "cell_type": "code",
   "execution_count": 1,
   "metadata": {},
   "outputs": [],
   "source": [
    "def solution(arr1, arr2):\n",
    "    answer = []\n",
    "    count_number = len(arr2[0])\n",
    "    \n",
    "    \n",
    "    for i in arr1:\n",
    "        part_answer = []\n",
    "        for j in range(count_number):\n",
    "            number = 0\n",
    "            for idx, a in enumerate(i):\n",
    "                number += arr2[idx][j]\n",
    "            part_answer.append(number)\n",
    "        answer.append(part_answer)\n",
    "    \n",
    "    \n",
    "    return answer"
   ]
  },
  {
   "cell_type": "code",
   "execution_count": 2,
   "metadata": {},
   "outputs": [
    {
     "data": {
      "text/plain": [
       "[[10, 9, 5], [10, 9, 5], [10, 9, 5]]"
      ]
     },
     "execution_count": 2,
     "metadata": {},
     "output_type": "execute_result"
    }
   ],
   "source": [
    "arr1 = [[2, 3, 2],\n",
    "        [4, 2, 4],\n",
    "        [3, 1, 4]]\n",
    "arr2 = [[5, 4, 3],\n",
    "        [2, 4, 1],\n",
    "        [3, 1, 1]]\n",
    "\n",
    "solution(arr1, arr2)"
   ]
  }
 ],
 "metadata": {
  "kernelspec": {
   "display_name": "base",
   "language": "python",
   "name": "python3"
  },
  "language_info": {
   "codemirror_mode": {
    "name": "ipython",
    "version": 3
   },
   "file_extension": ".py",
   "mimetype": "text/x-python",
   "name": "python",
   "nbconvert_exporter": "python",
   "pygments_lexer": "ipython3",
   "version": "3.11.5"
  }
 },
 "nbformat": 4,
 "nbformat_minor": 2
}
