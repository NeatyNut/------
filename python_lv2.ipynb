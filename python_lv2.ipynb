{
 "cells": [
  {
   "cell_type": "markdown",
   "metadata": {},
   "source": [
    "### 문제설명\n",
    "- 그렙시에는 숫자 0이 적힌 블록들이 설치된 도로에 다른 숫자가 적힌 블록들을 설치하기로 하였습니다. 숫자 블록을 설치하는 규칙은 다음과 같습니다.\n",
    "\n",
    "- 블록에 적힌 번호가 n 일 때, 가장 첫 블록은 n * 2번째 위치에 설치합니다. 그 다음은 n * 3, 그 다음은 n * 4, ...위치에 설치합니다. 기존에 설치된 블록은 빼고 새로운 블록을 집어넣습니다.\n",
    "\n",
    "- 블록은 1이 적힌 블록부터 숫자를 1씩 증가시키며 순서대로 설치합니다. 예를 들어 1이 적힌 블록은 2, 3, 4, 5, ... 인 위치에 우선 설치합니다. 그 다음 2가 적힌 블록은 4, 6, 8, 10, ... 인 위치에 설치하고, 3이 적힌 블록은 6, 9, 12... 인 위치에 설치합니다.\n",
    "\n",
    "- 이렇게 3이 적힌 블록까지 설치하고 나면 첫 10개의 블록에 적힌 번호는 [0, 1, 1, 2, 1, 3, 1, 2, 3, 2]가 됩니다.\n",
    "\n",
    "- 그렙시는 길이가 1,000,000,000인 도로에 1부터 10,000,000까지의 숫자가 적힌 블록들을 이용해 위의 규칙대로 모두 설치 했습니다.\n",
    "\n",
    "- 그렙시의 시장님은 특정 구간에 어떤 블록이 깔려 있는지 알고 싶습니다.\n",
    "\n",
    "- 구간을 나타내는 두 정수 begin, end 가 매개변수로 주어 질 때, 그 구간에 깔려 있는 블록의 숫자 배열을 return하는 solution 함수를 완성해 주세요."
   ]
  },
  {
   "cell_type": "code",
   "execution_count": 5,
   "metadata": {},
   "outputs": [
    {
     "ename": "NameError",
     "evalue": "name 'max_num' is not defined",
     "output_type": "error",
     "traceback": [
      "\u001b[1;31m---------------------------------------------------------------------------\u001b[0m",
      "\u001b[1;31mNameError\u001b[0m                                 Traceback (most recent call last)",
      "Cell \u001b[1;32mIn[5], line 26\u001b[0m\n\u001b[0;32m     21\u001b[0m             answer\u001b[38;5;241m.\u001b[39mappend(get_number(i))\n\u001b[0;32m     23\u001b[0m     \u001b[38;5;28;01mreturn\u001b[39;00m answer\n\u001b[1;32m---> 26\u001b[0m \u001b[38;5;28mprint\u001b[39m(solution(\u001b[38;5;241m1\u001b[39m, \u001b[38;5;241m7\u001b[39m))\n",
      "Cell \u001b[1;32mIn[5], line 3\u001b[0m, in \u001b[0;36msolution\u001b[1;34m(begin, end)\u001b[0m\n\u001b[0;32m      1\u001b[0m \u001b[38;5;28;01mdef\u001b[39;00m \u001b[38;5;21msolution\u001b[39m(begin, end):\n\u001b[0;32m      2\u001b[0m     answer \u001b[38;5;241m=\u001b[39m []\n\u001b[1;32m----> 3\u001b[0m     \u001b[38;5;28mprint\u001b[39m(max_num)\n\u001b[0;32m      5\u001b[0m     \u001b[38;5;28;01mdef\u001b[39;00m \u001b[38;5;21mget_number\u001b[39m(number):\n\u001b[0;32m      6\u001b[0m         max_num \u001b[38;5;241m=\u001b[39m \u001b[38;5;28mint\u001b[39m((number\u001b[38;5;241m+\u001b[39m\u001b[38;5;241m1\u001b[39m)\u001b[38;5;241m/\u001b[39m\u001b[38;5;241m2\u001b[39m)\n",
      "\u001b[1;31mNameError\u001b[0m: name 'max_num' is not defined"
     ]
    }
   ],
   "source": [
    "def solution(begin, end):\n",
    "    answer = []\n",
    "    \n",
    "    def get_number(number):\n",
    "        max_num = int((number+1)/2)\n",
    "        for i in range(3, max_num):\n",
    "            if number % i == 0:\n",
    "                return int(number/i)\n",
    "        \n",
    "        return 1\n",
    "    \n",
    "    for i in range(begin, end+1):\n",
    "        if i == 1:\n",
    "            answer.append(0)\n",
    "            continue\n",
    "        \n",
    "        if i % 2 == 0:\n",
    "            answer.append(int(i/2))\n",
    "        else :\n",
    "            answer.append(get_number(i))\n",
    "    \n",
    "    return answer\n",
    "\n",
    "\n",
    "print(solution(1, 7))"
   ]
  },
  {
   "cell_type": "code",
   "execution_count": 11,
   "metadata": {},
   "outputs": [],
   "source": [
    "def solution(arr1, arr2):\n",
    "    answer = []\n",
    "    count_number = len(arr2[0])\n",
    "    \n",
    "    \n",
    "    for i in arr1:\n",
    "        part_answer = []\n",
    "        for j in range(count_number):\n",
    "            number = 0\n",
    "            for idx, a in enumerate(i):\n",
    "                number += arr2[idx][j]\n",
    "            part_answer.append(number)\n",
    "        answer.append(part_answer)\n",
    "    \n",
    "    \n",
    "    return answer"
   ]
  },
  {
   "cell_type": "code",
   "execution_count": 12,
   "metadata": {},
   "outputs": [
    {
     "name": "stdout",
     "output_type": "stream",
     "text": [
      "0 0\n",
      "5\n",
      "====================\n",
      "0 1\n",
      "2\n",
      "====================\n",
      "0 2\n",
      "3\n",
      "====================\n",
      "1 0\n",
      "4\n",
      "====================\n",
      "1 1\n",
      "4\n",
      "====================\n",
      "1 2\n",
      "1\n",
      "====================\n",
      "2 0\n",
      "3\n",
      "====================\n",
      "2 1\n",
      "1\n",
      "====================\n",
      "2 2\n",
      "1\n",
      "====================\n",
      "0 0\n",
      "5\n",
      "====================\n",
      "0 1\n",
      "2\n",
      "====================\n",
      "0 2\n",
      "3\n",
      "====================\n",
      "1 0\n",
      "4\n",
      "====================\n",
      "1 1\n",
      "4\n",
      "====================\n",
      "1 2\n",
      "1\n",
      "====================\n",
      "2 0\n",
      "3\n",
      "====================\n",
      "2 1\n",
      "1\n",
      "====================\n",
      "2 2\n",
      "1\n",
      "====================\n",
      "0 0\n",
      "5\n",
      "====================\n",
      "0 1\n",
      "2\n",
      "====================\n",
      "0 2\n",
      "3\n",
      "====================\n",
      "1 0\n",
      "4\n",
      "====================\n",
      "1 1\n",
      "4\n",
      "====================\n",
      "1 2\n",
      "1\n",
      "====================\n",
      "2 0\n",
      "3\n",
      "====================\n",
      "2 1\n",
      "1\n",
      "====================\n",
      "2 2\n",
      "1\n",
      "====================\n"
     ]
    },
    {
     "data": {
      "text/plain": [
       "[[10, 9, 5], [10, 9, 5], [10, 9, 5]]"
      ]
     },
     "execution_count": 12,
     "metadata": {},
     "output_type": "execute_result"
    }
   ],
   "source": [
    "arr1 = [[2, 3, 2],\n",
    "        [4, 2, 4],\n",
    "        [3, 1, 4]]\n",
    "arr2 = [[5, 4, 3],\n",
    "        [2, 4, 1],\n",
    "        [3, 1, 1]]\n",
    "\n",
    "solution(arr1, arr2)"
   ]
  },
  {
   "cell_type": "code",
   "execution_count": null,
   "metadata": {},
   "outputs": [],
   "source": []
  }
 ],
 "metadata": {
  "kernelspec": {
   "display_name": "base",
   "language": "python",
   "name": "python3"
  },
  "language_info": {
   "codemirror_mode": {
    "name": "ipython",
    "version": 3
   },
   "file_extension": ".py",
   "mimetype": "text/x-python",
   "name": "python",
   "nbconvert_exporter": "python",
   "pygments_lexer": "ipython3",
   "version": "3.11.5"
  }
 },
 "nbformat": 4,
 "nbformat_minor": 2
}
