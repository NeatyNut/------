{
 "cells": [
  {
   "cell_type": "markdown",
   "metadata": {},
   "source": [
    "- 2024.06.13(목) ~ 17(월) (4일간 짬짬이)\n",
    "- 프로그래머스 / 3 x n 타일링 / 30%\n",
    "- https://school.programmers.co.kr/learn/courses/30/lessons/12902#qna\n",
    "- 소감 : 결국 패턴을 개인적으로 못 깨달아 패턴 힌트를 보고 깻다."
   ]
  },
  {
   "cell_type": "code",
   "execution_count": 1,
   "metadata": {},
   "outputs": [],
   "source": [
    "def solution(n):\n",
    "    case = [3, 11, 41]\n",
    "    \n",
    "    if n < 7:\n",
    "        return case[(n//2)-1]\n",
    "    \n",
    "    for i in range(8, n+1, 2):\n",
    "        case.append(case[i//2 - 2]*4 - case[i//2 - 3])\n",
    "    \n",
    "    return case[n//2-1] % 1000000007"
   ]
  },
  {
   "cell_type": "code",
   "execution_count": 2,
   "metadata": {},
   "outputs": [
    {
     "data": {
      "text/plain": [
       "117014746"
      ]
     },
     "execution_count": 2,
     "metadata": {},
     "output_type": "execute_result"
    }
   ],
   "source": [
    "solution(32)"
   ]
  }
 ],
 "metadata": {
  "kernelspec": {
   "display_name": "base",
   "language": "python",
   "name": "python3"
  },
  "language_info": {
   "codemirror_mode": {
    "name": "ipython",
    "version": 3
   },
   "file_extension": ".py",
   "mimetype": "text/x-python",
   "name": "python",
   "nbconvert_exporter": "python",
   "pygments_lexer": "ipython3",
   "version": "3.11.7"
  }
 },
 "nbformat": 4,
 "nbformat_minor": 2
}
