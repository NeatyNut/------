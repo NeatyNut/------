{
 "cells": [
  {
   "cell_type": "markdown",
   "metadata": {},
   "source": [
    "- 2024.06.13(목) ~ 17(월) (4일간 짬짬이)\n",
    "- 프로그래머스 / 3 x n 타일링(Lv2) / 30%\n",
    "- https://school.programmers.co.kr/learn/courses/30/lessons/12902#qna\n",
    "- 소감 : 결국 패턴을 개인적으로 못 깨달아 패턴 힌트를 보고 깻다."
   ]
  },
  {
   "cell_type": "code",
   "execution_count": 1,
   "metadata": {},
   "outputs": [],
   "source": [
    "def solution(n):\n",
    "    case = [3, 11, 41]\n",
    "    \n",
    "    if n < 7:\n",
    "        return case[(n//2)-1]\n",
    "    \n",
    "    for i in range(8, n+1, 2):\n",
    "        case.append(case[i//2 - 2]*4 - case[i//2 - 3])\n",
    "    \n",
    "    return case[n//2-1] % 1000000007"
   ]
  },
  {
   "cell_type": "code",
   "execution_count": 2,
   "metadata": {},
   "outputs": [
    {
     "data": {
      "text/plain": [
       "117014746"
      ]
     },
     "execution_count": 2,
     "metadata": {},
     "output_type": "execute_result"
    }
   ],
   "source": [
    "solution(32)"
   ]
  },
  {
   "cell_type": "code",
   "execution_count": null,
   "metadata": {},
   "outputs": [],
   "source": []
  },
  {
   "cell_type": "markdown",
   "metadata": {},
   "source": [
    "- 2024.06.26(수) ~ 미해결\n",
    "- 프로그래머스 / 단어 변환(Lv3) / 59%\n",
    "- https://school.programmers.co.kr/learn/courses/30/lessons/43163"
   ]
  },
  {
   "cell_type": "code",
   "execution_count": 1,
   "metadata": {},
   "outputs": [],
   "source": [
    "def solution(begin, target, words):\n",
    "    if not target in words:\n",
    "        return 0\n",
    "\n",
    "    # 비교하기\n",
    "    def compare(word, part_target):\n",
    "        # 동일할 시 0 리턴\n",
    "        if word == part_target:\n",
    "            return 0\n",
    "        \n",
    "        # 다를 시\n",
    "        ch_number = 0\n",
    "\n",
    "        for idx in range(len(part_target)):\n",
    "            if word[idx] != part_target[idx]:\n",
    "                ch_number += 1\n",
    "        return ch_number\n",
    "\n",
    "    # 방법 찾기    \n",
    "    def find_way(begin:str, target:str, words:list, result:int):\n",
    "        needs = compare(begin, target)\n",
    "\n",
    "        for word in words:\n",
    "            if compare(begin, word) == 1 and compare(word, target) < needs:\n",
    "                result += 1\n",
    "                break\n",
    "        \n",
    "        part_begin = word\n",
    "        part_words = [w for w in words if w != part_begin]\n",
    "\n",
    "        if part_begin != target:\n",
    "            return find_way(part_begin, target, part_words, result)\n",
    "        else :\n",
    "            return result\n",
    "    \n",
    "    return find_way(begin, target, words, 0)"
   ]
  },
  {
   "cell_type": "code",
   "execution_count": null,
   "metadata": {},
   "outputs": [],
   "source": []
  }
 ],
 "metadata": {
  "kernelspec": {
   "display_name": "base",
   "language": "python",
   "name": "python3"
  },
  "language_info": {
   "codemirror_mode": {
    "name": "ipython",
    "version": 3
   },
   "file_extension": ".py",
   "mimetype": "text/x-python",
   "name": "python",
   "nbconvert_exporter": "python",
   "pygments_lexer": "ipython3",
   "version": "3.11.7"
  }
 },
 "nbformat": 4,
 "nbformat_minor": 2
}
