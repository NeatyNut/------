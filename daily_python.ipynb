{
 "cells": [
  {
   "cell_type": "markdown",
   "metadata": {},
   "source": [
    "- 2024.06.15(토)\n",
    "- 프로그래머스 / 행렬 곱셈(Lv2) / 65%\n",
    "- https://school.programmers.co.kr/learn/courses/30/lessons/12949"
   ]
  },
  {
   "cell_type": "code",
   "execution_count": 3,
   "metadata": {},
   "outputs": [],
   "source": [
    "def solution(arr1, arr2):\n",
    "    answer = []\n",
    "    count_number = len(arr2[0])\n",
    "    \n",
    "    for i in arr1:\n",
    "        part_answer = []\n",
    "        for j in range(count_number):\n",
    "            number = 0\n",
    "            for idx, a in enumerate(i):\n",
    "                number += a * arr2[idx][j]\n",
    "            part_answer.append(number)\n",
    "        answer.append(part_answer)\n",
    "    \n",
    "    return answer"
   ]
  },
  {
   "cell_type": "code",
   "execution_count": 4,
   "metadata": {},
   "outputs": [
    {
     "data": {
      "text/plain": [
       "[[22, 22, 11], [36, 28, 18], [29, 20, 14]]"
      ]
     },
     "execution_count": 4,
     "metadata": {},
     "output_type": "execute_result"
    }
   ],
   "source": [
    "arr1 = [[2, 3, 2],\n",
    "        [4, 2, 4],\n",
    "        [3, 1, 4]]\n",
    "arr2 = [[5, 4, 3],\n",
    "        [2, 4, 1],\n",
    "        [3, 1, 1]]\n",
    "\n",
    "solution(arr1, arr2)"
   ]
  },
  {
   "cell_type": "markdown",
   "metadata": {},
   "source": [
    "- 2024.06.16(일)\n",
    "- 프로그래머스 / 올바른 괄호(Lv2) / 78%\n",
    "- https://school.programmers.co.kr/learn/courses/30/lessons/12909"
   ]
  },
  {
   "cell_type": "code",
   "execution_count": 1,
   "metadata": {},
   "outputs": [],
   "source": [
    "def solution(s):\n",
    "    if s.count(\"(\") != s.count(\")\"):\n",
    "        return False\n",
    "\n",
    "    answer = 0\n",
    "    \n",
    "    for i in s:\n",
    "        if i == \"(\":\n",
    "            answer += 1\n",
    "        else :\n",
    "            answer -= 1\n",
    "        \n",
    "        if answer < 0:\n",
    "            return False\n",
    "        \n",
    "    return True"
   ]
  },
  {
   "cell_type": "code",
   "execution_count": 2,
   "metadata": {},
   "outputs": [
    {
     "name": "stdout",
     "output_type": "stream",
     "text": [
      "(())()  :  True\n",
      "(()(  :  False\n"
     ]
    }
   ],
   "source": [
    "print(\"(())()\", \" : \", solution(\"(())()\"))\n",
    "print(\"(()(\", \" : \", solution(\"(()(\"))"
   ]
  },
  {
   "cell_type": "markdown",
   "metadata": {},
   "source": [
    "- 2024.06.17(월)\n",
    "- 프로그래머스 / 귤 고르기(Lv2) / 69%\n",
    "- https://school.programmers.co.kr/learn/courses/30/lessons/138476"
   ]
  },
  {
   "cell_type": "code",
   "execution_count": 2,
   "metadata": {},
   "outputs": [],
   "source": [
    "from collections import Counter\n",
    "\n",
    "def solution(k, tangerine):\n",
    "    count = Counter(tangerine)\n",
    "    sorted_list = sorted(sorted(tangerine), key=lambda x: count[x], reverse=True)\n",
    "\n",
    "    for _ in range(len(tangerine)-k):\n",
    "        sorted_list.pop()\n",
    "\n",
    "    return len(set(sorted_list))"
   ]
  },
  {
   "cell_type": "code",
   "execution_count": 3,
   "metadata": {},
   "outputs": [
    {
     "data": {
      "text/plain": [
       "2"
      ]
     },
     "execution_count": 3,
     "metadata": {},
     "output_type": "execute_result"
    }
   ],
   "source": [
    "tangerine = [1, 3, 2, 5, 4, 5, 2, 3]\n",
    "k = 4\n",
    "solution(k, tangerine)"
   ]
  },
  {
   "cell_type": "markdown",
   "metadata": {},
   "source": [
    "- 2024.06.18(화)\n",
    "- 프로그래머스 / N개의 최소공배수(Lv2) / 69%\n",
    "- https://school.programmers.co.kr/learn/courses/30/lessons/12953"
   ]
  },
  {
   "cell_type": "code",
   "execution_count": 25,
   "metadata": {},
   "outputs": [],
   "source": [
    "from math import prod\n",
    "\n",
    "def solution(arr):\n",
    "    # 조건 100이하의 숫자 제공 == 100이하의 소수 모음\n",
    "    prime = [2, 3, 5, 7, 11, 13, 17, 19, 23, 29, 31, 37, 41, 43, 47, 53, 59, 61, 67, 71, 73, 79, 83, 89, 97]\n",
    "    answer = []\n",
    "    \n",
    "    # 소인수 분해\n",
    "    for i in arr:\n",
    "        idx = 0\n",
    "        part_answer = []\n",
    "        n = i\n",
    "        while idx < len(prime) and i >= prime[idx]:\n",
    "            if n % prime[idx] == 0:\n",
    "                part_answer.append(prime[idx])\n",
    "                n = n / prime[idx]\n",
    "            else :\n",
    "                idx += 1\n",
    "                \n",
    "        answer.append(part_answer)\n",
    "    \n",
    "    # 공배수들 중복제거\n",
    "    parts = list(set([j for part in answer for j in part]))\n",
    "\n",
    "    # 각 공배수가 가져야하는 제곱근 구하기\n",
    "    howmanys = []\n",
    "    for k in parts:\n",
    "        howmany = []\n",
    "        for part in answer:\n",
    "            howmany.append(part.count(k))\n",
    "        howmanys.append(max(howmany))\n",
    "    \n",
    "    # 소수, 제곱근 매핑\n",
    "    real_answer = list(map(lambda x:x**(howmanys[parts.index(x)]), parts))\n",
    "\n",
    "    return prod(real_answer)"
   ]
  },
  {
   "cell_type": "code",
   "execution_count": 26,
   "metadata": {},
   "outputs": [
    {
     "data": {
      "text/plain": [
       "168"
      ]
     },
     "execution_count": 26,
     "metadata": {},
     "output_type": "execute_result"
    }
   ],
   "source": [
    "solution([2, 6, 8, 14])"
   ]
  },
  {
   "cell_type": "markdown",
   "metadata": {},
   "source": [
    "- 2024.06.19(수)\n",
    "- 프로그래머스 / 나머지가 1이 되는 수 찾기(Lv1) / 87%\n",
    "- https://school.programmers.co.kr/learn/courses/30/lessons/87389"
   ]
  },
  {
   "cell_type": "code",
   "execution_count": 1,
   "metadata": {},
   "outputs": [],
   "source": [
    "def solution(n):\n",
    "    i = 2\n",
    "    \n",
    "    while n % i != 1:\n",
    "        i += 1\n",
    "    \n",
    "    return i"
   ]
  },
  {
   "cell_type": "code",
   "execution_count": 2,
   "metadata": {},
   "outputs": [
    {
     "data": {
      "text/plain": [
       "11"
      ]
     },
     "execution_count": 2,
     "metadata": {},
     "output_type": "execute_result"
    }
   ],
   "source": [
    "solution(12)"
   ]
  },
  {
   "cell_type": "markdown",
   "metadata": {},
   "source": [
    "- 2024.06.20(목)\n",
    "- 프로그래머스 / 구명보트(Lv2) / 70%\n",
    "- https://school.programmers.co.kr/learn/courses/30/lessons/42885"
   ]
  },
  {
   "cell_type": "code",
   "execution_count": 90,
   "metadata": {},
   "outputs": [],
   "source": [
    "def solution(people, limit):\n",
    "    people = sorted(people)\n",
    "\n",
    "    answer = 0\n",
    "    left = 0\n",
    "    right = len(people) - 1\n",
    "\n",
    "    while left <= right:\n",
    "        if people[left] + people[right] <= limit:\n",
    "            left += 1\n",
    "        right -= 1\n",
    "        answer += 1\n",
    "        \n",
    "    return answer"
   ]
  },
  {
   "cell_type": "code",
   "execution_count": 92,
   "metadata": {},
   "outputs": [
    {
     "data": {
      "text/plain": [
       "3"
      ]
     },
     "execution_count": 92,
     "metadata": {},
     "output_type": "execute_result"
    }
   ],
   "source": [
    "people = [70, 80, 50, 50]\n",
    "limit = 100\n",
    "\n",
    "solution(people, limit)"
   ]
  },
  {
   "cell_type": "markdown",
   "metadata": {},
   "source": [
    "- 2024.06.21(금)\n",
    "- 프로그래머스 / 피보나치 수(Lv2) / 73%\n",
    "- https://school.programmers.co.kr/learn/courses/30/lessons/12945"
   ]
  },
  {
   "cell_type": "code",
   "execution_count": 11,
   "metadata": {},
   "outputs": [],
   "source": [
    "def solution(n):\n",
    "    f_n2 = 0\n",
    "    f_n1 = 1\n",
    "    answer = 1\n",
    "\n",
    "    for _ in range(n-2):\n",
    "        f_n2 = f_n1\n",
    "        f_n1 = answer\n",
    "        answer = f_n2 + f_n1\n",
    "    \n",
    "    return answer % 1234567"
   ]
  },
  {
   "cell_type": "code",
   "execution_count": 12,
   "metadata": {},
   "outputs": [
    {
     "data": {
      "text/plain": [
       "8"
      ]
     },
     "execution_count": 12,
     "metadata": {},
     "output_type": "execute_result"
    }
   ],
   "source": [
    "solution(6)"
   ]
  },
  {
   "cell_type": "markdown",
   "metadata": {},
   "source": [
    "- 2024.06.22(토)\n",
    "- 프로그래머스 / 주식가격(Lv2) / 59%\n",
    "- https://school.programmers.co.kr/learn/courses/30/lessons/42584"
   ]
  },
  {
   "cell_type": "code",
   "execution_count": 49,
   "metadata": {},
   "outputs": [],
   "source": [
    "def solution(prices):\n",
    "    n = len(prices)\n",
    "    answer = [0] * n\n",
    "    stack = []\n",
    "    \n",
    "    for i in range(n):\n",
    "        while stack and prices[stack[-1]] > prices[i]:\n",
    "            j = stack.pop()\n",
    "            answer[j] = i - j\n",
    "        stack.append(i)\n",
    "    \n",
    "    while stack:\n",
    "        j = stack.pop()\n",
    "        answer[j] = n - 1 - j\n",
    "    \n",
    "    return answer"
   ]
  },
  {
   "cell_type": "code",
   "execution_count": 50,
   "metadata": {},
   "outputs": [
    {
     "data": {
      "text/plain": [
       "[4, 3, 1, 1, 0]"
      ]
     },
     "execution_count": 50,
     "metadata": {},
     "output_type": "execute_result"
    }
   ],
   "source": [
    "solution([1,2,3,2,3])"
   ]
  },
  {
   "cell_type": "markdown",
   "metadata": {},
   "source": [
    "- 2024.06.23(일)\n",
    "- 프로그래머스 / 평균 구하기(Lv1) / 87%\n",
    "- https://school.programmers.co.kr/learn/courses/30/lessons/12944"
   ]
  },
  {
   "cell_type": "code",
   "execution_count": 1,
   "metadata": {},
   "outputs": [],
   "source": [
    "def solution(arr):\n",
    "    return sum(arr) / len(arr)"
   ]
  },
  {
   "cell_type": "code",
   "execution_count": 2,
   "metadata": {},
   "outputs": [
    {
     "data": {
      "text/plain": [
       "2.5"
      ]
     },
     "execution_count": 2,
     "metadata": {},
     "output_type": "execute_result"
    }
   ],
   "source": [
    "solution([1,2,3,4])"
   ]
  },
  {
   "cell_type": "markdown",
   "metadata": {},
   "source": [
    "- 2024.06.24(월)\n",
    "- 프로그래머스 / 이중우선순위큐(Lv3) / 61%\n",
    "- https://school.programmers.co.kr/learn/courses/30/lessons/42628"
   ]
  },
  {
   "cell_type": "code",
   "execution_count": 15,
   "metadata": {},
   "outputs": [],
   "source": [
    "def solution(operations):\n",
    "    answer = []\n",
    "\n",
    "    for i in operations:\n",
    "        if i[0] == \"D\" and len(answer) > 0:\n",
    "            # 중복 없다 가정\n",
    "            if i[2] == \"1\":\n",
    "                answer.remove(max(answer))\n",
    "            else :\n",
    "                answer.remove(min(answer))\n",
    "        elif i[0] == \"I\" :\n",
    "            # 정수라 가정\n",
    "            answer.append(int(i[2:]))\n",
    "\n",
    "    return [max(answer), min(answer)] if not len(answer) == 0 else [0,0]"
   ]
  },
  {
   "cell_type": "code",
   "execution_count": 16,
   "metadata": {},
   "outputs": [
    {
     "data": {
      "text/plain": [
       "[333, -45]"
      ]
     },
     "execution_count": 16,
     "metadata": {},
     "output_type": "execute_result"
    }
   ],
   "source": [
    "solution([\"I -45\", \"I 653\", \"D 1\", \"I -642\", \"I 45\", \"I 97\", \"D 1\", \"D -1\", \"I 333\"])"
   ]
  },
  {
   "cell_type": "markdown",
   "metadata": {},
   "source": [
    "- 프로그래머스 / \n",
    "- https://school.programmers.co.kr/learn/courses/30/lessons/12927"
   ]
  },
  {
   "cell_type": "code",
   "execution_count": 17,
   "metadata": {},
   "outputs": [],
   "source": [
    "def solution(n, works):\n",
    "    if sum(works) <= n:\n",
    "        return 0\n",
    "    \n",
    "    import heapq\n",
    "    works = list(map(lambda x:-x, works))\n",
    "    heapq.heapify(works)\n",
    "    \n",
    "    for _ in range(n):\n",
    "        max_works = -heapq.heappop(works)\n",
    "        max_works -= 1\n",
    "        heapq.heappush(works, -max_works)\n",
    "        \n",
    "    return sum(map(lambda x:x**2, works))"
   ]
  },
  {
   "cell_type": "code",
   "execution_count": 18,
   "metadata": {},
   "outputs": [
    {
     "data": {
      "text/plain": [
       "6"
      ]
     },
     "execution_count": 18,
     "metadata": {},
     "output_type": "execute_result"
    }
   ],
   "source": [
    "solution(1, [2,1,2])"
   ]
  },
  {
   "cell_type": "code",
   "execution_count": null,
   "metadata": {},
   "outputs": [],
   "source": []
  }
 ],
 "metadata": {
  "kernelspec": {
   "display_name": "base",
   "language": "python",
   "name": "python3"
  },
  "language_info": {
   "codemirror_mode": {
    "name": "ipython",
    "version": 3
   },
   "file_extension": ".py",
   "mimetype": "text/x-python",
   "name": "python",
   "nbconvert_exporter": "python",
   "pygments_lexer": "ipython3",
   "version": "3.11.7"
  }
 },
 "nbformat": 4,
 "nbformat_minor": 2
}
