{
 "cells": [
  {
   "cell_type": "markdown",
   "metadata": {},
   "source": [
    "- 2024.06.15(토)\n",
    "- 프로그래머스 / 행렬 곱셈(Lv2) / 65%\n",
    "- https://school.programmers.co.kr/learn/courses/30/lessons/12949"
   ]
  },
  {
   "cell_type": "code",
   "execution_count": 3,
   "metadata": {},
   "outputs": [],
   "source": [
    "def solution(arr1, arr2):\n",
    "    answer = []\n",
    "    count_number = len(arr2[0])\n",
    "    \n",
    "    for i in arr1:\n",
    "        part_answer = []\n",
    "        for j in range(count_number):\n",
    "            number = 0\n",
    "            for idx, a in enumerate(i):\n",
    "                number += a * arr2[idx][j]\n",
    "            part_answer.append(number)\n",
    "        answer.append(part_answer)\n",
    "    \n",
    "    return answer"
   ]
  },
  {
   "cell_type": "code",
   "execution_count": 4,
   "metadata": {},
   "outputs": [
    {
     "data": {
      "text/plain": [
       "[[22, 22, 11], [36, 28, 18], [29, 20, 14]]"
      ]
     },
     "execution_count": 4,
     "metadata": {},
     "output_type": "execute_result"
    }
   ],
   "source": [
    "arr1 = [[2, 3, 2],\n",
    "        [4, 2, 4],\n",
    "        [3, 1, 4]]\n",
    "arr2 = [[5, 4, 3],\n",
    "        [2, 4, 1],\n",
    "        [3, 1, 1]]\n",
    "\n",
    "solution(arr1, arr2)"
   ]
  },
  {
   "cell_type": "markdown",
   "metadata": {},
   "source": [
    "- 2024.06.16(일)\n",
    "- 프로그래머스 / 올바른 괄호(Lv2) / 78%\n",
    "- https://school.programmers.co.kr/learn/courses/30/lessons/12909"
   ]
  },
  {
   "cell_type": "code",
   "execution_count": 1,
   "metadata": {},
   "outputs": [],
   "source": [
    "def solution(s):\n",
    "    if s.count(\"(\") != s.count(\")\"):\n",
    "        return False\n",
    "\n",
    "    answer = 0\n",
    "    \n",
    "    for i in s:\n",
    "        if i == \"(\":\n",
    "            answer += 1\n",
    "        else :\n",
    "            answer -= 1\n",
    "        \n",
    "        if answer < 0:\n",
    "            return False\n",
    "        \n",
    "    return True"
   ]
  },
  {
   "cell_type": "code",
   "execution_count": 2,
   "metadata": {},
   "outputs": [
    {
     "name": "stdout",
     "output_type": "stream",
     "text": [
      "(())()  :  True\n",
      "(()(  :  False\n"
     ]
    }
   ],
   "source": [
    "print(\"(())()\", \" : \", solution(\"(())()\"))\n",
    "print(\"(()(\", \" : \", solution(\"(()(\"))"
   ]
  },
  {
   "cell_type": "markdown",
   "metadata": {},
   "source": [
    "- 2024.06.17(월)\n",
    "- 프로그래머스 / 귤 고르기(Lv2) / 69%\n",
    "- https://school.programmers.co.kr/learn/courses/30/lessons/138476"
   ]
  },
  {
   "cell_type": "code",
   "execution_count": 2,
   "metadata": {},
   "outputs": [],
   "source": [
    "from collections import Counter\n",
    "\n",
    "def solution(k, tangerine):\n",
    "    count = Counter(tangerine)\n",
    "    sorted_list = sorted(sorted(tangerine), key=lambda x: count[x], reverse=True)\n",
    "\n",
    "    for _ in range(len(tangerine)-k):\n",
    "        sorted_list.pop()\n",
    "\n",
    "    return len(set(sorted_list))"
   ]
  },
  {
   "cell_type": "code",
   "execution_count": 3,
   "metadata": {},
   "outputs": [
    {
     "data": {
      "text/plain": [
       "2"
      ]
     },
     "execution_count": 3,
     "metadata": {},
     "output_type": "execute_result"
    }
   ],
   "source": [
    "tangerine = [1, 3, 2, 5, 4, 5, 2, 3]\n",
    "k = 4\n",
    "solution(k, tangerine)"
   ]
  }
 ],
 "metadata": {
  "kernelspec": {
   "display_name": "base",
   "language": "python",
   "name": "python3"
  },
  "language_info": {
   "codemirror_mode": {
    "name": "ipython",
    "version": 3
   },
   "file_extension": ".py",
   "mimetype": "text/x-python",
   "name": "python",
   "nbconvert_exporter": "python",
   "pygments_lexer": "ipython3",
   "version": "3.11.7"
  }
 },
 "nbformat": 4,
 "nbformat_minor": 2
}
